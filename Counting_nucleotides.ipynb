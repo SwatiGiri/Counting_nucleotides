{
 "cells": [
  {
   "cell_type": "markdown",
   "metadata": {},
   "source": [
    "#Problem\n",
    "A string is simply an ordered collection of symbols selected from some alphabet and formed into a word; the length of a string is the number of symbols that it contains.\n",
    "\n",
    "An example of a length 21 DNA string (whose alphabet contains the symbols 'A', 'C', 'G', and 'T') is \"ATGCTTCAGAAAGGTCTTACG.\"\n",
    "\n",
    "Given: A DNA string s of length at most 1000 nt.\n",
    "\n",
    "Return: Four integers (separated by spaces) counting the respective number of times that the symbols 'A', 'C', 'G', and 'T' occur in s."
   ]
  },
  {
   "cell_type": "code",
   "execution_count": 1,
   "metadata": {
    "collapsed": true
   },
   "outputs": [],
   "source": [
    "DNA_string = \"ATGCTTCAGAAAGGTCTTACG\""
   ]
  },
  {
   "cell_type": "code",
   "execution_count": 2,
   "metadata": {},
   "outputs": [
    {
     "data": {
      "text/plain": [
       "21"
      ]
     },
     "execution_count": 2,
     "metadata": {},
     "output_type": "execute_result"
    }
   ],
   "source": [
    "len(DNA_string)"
   ]
  },
  {
   "cell_type": "code",
   "execution_count": 21,
   "metadata": {},
   "outputs": [
    {
     "name": "stdout",
     "output_type": "stream",
     "text": [
      "number of A = 6\n",
      "number of T = 6\n",
      "number of G = 5\n",
      "number of C = 4\n"
     ]
    }
   ],
   "source": [
    "num_A=0\n",
    "num_T=0\n",
    "num_G=0\n",
    "num_C=0\n",
    "for i in DNA_string:\n",
    "    if i == \"A\":\n",
    "        num_A= num_A+1\n",
    "    elif i == \"T\":\n",
    "        num_T= num_T+1\n",
    "    elif i == \"G\":\n",
    "        num_G= num_G+1\n",
    "    elif i == \"C\":\n",
    "        num_C= num_C+1\n",
    "    \n",
    "print(\"number of A = \" + str(num_A))\n",
    "print(\"number of T = \" + str(num_T))\n",
    "print(\"number of G = \" + str(num_G))\n",
    "print(\"number of C = \" + str(num_C))\n",
    "        "
   ]
  },
  {
   "cell_type": "code",
   "execution_count": 33,
   "metadata": {},
   "outputs": [
    {
     "name": "stdout",
     "output_type": "stream",
     "text": [
      "{'A': 6, 'T': 6, 'G': 5, 'C': 4}\n"
     ]
    }
   ],
   "source": [
    "count_ATGC={\"A\":0,\"T\":0,\"G\":0,\"C\":0}\n",
    "for i in DNA_string:\n",
    "    count_ATGC[i]=count_ATGC[i]+1\n",
    "print(count_ATGC) "
   ]
  },
  {
   "cell_type": "code",
   "execution_count": 32,
   "metadata": {},
   "outputs": [],
   "source": [
    "#importing file\n",
    "import pandas as pd\n",
    "nucleotide_file=open('rosalind_dna1.txt','r')\n",
    "\n",
    "nucleotide=nucleotide_file.read().strip()"
   ]
  },
  {
   "cell_type": "code",
   "execution_count": 33,
   "metadata": {},
   "outputs": [
    {
     "name": "stdout",
     "output_type": "stream",
     "text": [
      "{'A': 226, 'C': 223, 'G': 241, 'T': 226}\n"
     ]
    }
   ],
   "source": [
    "count_ATGC={\"A\":0,\"C\":0,\"G\":0,\"T\":0}\n",
    "for i in nucleotide:\n",
    "    count_ATGC[i]=count_ATGC[i]+1\n",
    "print(count_ATGC) \n",
    "\n",
    "nucleotide_file.close()"
   ]
  },
  {
   "cell_type": "code",
   "execution_count": 34,
   "metadata": {},
   "outputs": [
    {
     "data": {
      "text/plain": [
       "'ajsflkjasdlkfj'"
      ]
     },
     "execution_count": 34,
     "metadata": {},
     "output_type": "execute_result"
    }
   ],
   "source": [
    "x = \"       ajsflkjasdlkfj      \\n\"\n",
    "x.strip()"
   ]
  },
  {
   "cell_type": "code",
   "execution_count": null,
   "metadata": {
    "collapsed": true
   },
   "outputs": [],
   "source": []
  }
 ],
 "metadata": {
  "kernelspec": {
   "display_name": "Python [default]",
   "language": "python",
   "name": "python3"
  },
  "language_info": {
   "codemirror_mode": {
    "name": "ipython",
    "version": 3
   },
   "file_extension": ".py",
   "mimetype": "text/x-python",
   "name": "python",
   "nbconvert_exporter": "python",
   "pygments_lexer": "ipython3",
   "version": "3.6.3"
  }
 },
 "nbformat": 4,
 "nbformat_minor": 2
}
